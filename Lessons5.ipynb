{
 "cells": [
  {
   "cell_type": "markdown",
   "metadata": {},
   "source": [
    "# 1 Предел функции."
   ]
  },
  {
   "cell_type": "markdown",
   "metadata": {},
   "source": [
    "### Найти предел функции:\n",
    "\n",
    "1. $$ \\lim_{x \\to \\infty}{ \\frac{(23 - 2x^{2})(3x^{2} + 17)^{2}}{4x^{6} + x - 1} } = -\\frac{9}{2} $$\n",
    "\n",
    "\n",
    "2. $$ \\lim_{x \\to \\infty}{\\frac{(97 - 2x)^{3}}{2x(3x^{2} + 15) + 8x}} = -\\frac{4}{3}  $$\n",
    "\n",
    "\n",
    "3. $$ \\lim_{x \\to \\infty}{\\frac{2x^{3}+13x(x+18)}{(27-x)(2x+19)^{2}}} = - \\frac{1}{2} $$\n",
    "\n",
    "\n",
    "4. $$ \\lim_{x \\to 6}{\\frac{x^{2} - 36}{x^{2} - x - 30}} = \\frac{12}{11} $$\n",
    "\n",
    "\n",
    "5. $$ \\lim_{x \\to 7}{\\frac{x^{2} - 49}{x^{2} - 13x + 42}} = 14 $$\n",
    "\n",
    "\n",
    "6. $$ \\lim_{x \\to 7}{\\frac{\\sqrt{x + 2} - \\sqrt[3]{x + 20}}{\\sqrt[4]{x + 9} - 2}} = \\frac{112}{27} $$\n",
    "\n",
    "\n",
    "7. $$ \\lim_{x \\to 0}{\\frac{3x \\tan{4x}}{ 1 - \\cos{4x}}} = \\frac{3}{2} $$\n",
    "\n",
    "\n",
    "8. $$ \\lim_{x \\to 0}{\\frac{\\sqrt{2}x^{2}\\sin{4x}}{(1 - \\cos{2x})^{\\frac{3}{2}}}} = 2 $$\n",
    "\n",
    "\n",
    "9. $$ \\lim_{x \\to \\infty}{(\\frac{4x}{4x + 3})^{\\frac{5x^{2}}{7x - 1}}} = e^{-\\frac{15}{28}} $$\n",
    "\n",
    "\n",
    "10. $$ \\lim_{x \\to +\\infty}{\\frac{\\ln{(x^{2} - x + 1)}}{\\ln{(x^{10} + x + 1)}}} = \\frac{1}{5} $$\n",
    "\n",
    "\n",
    "11. $$ \\lim_{x \\to 0}{\\frac{5^{x} - 1}{x}} = \\log(5) $$"
   ]
  }
 ],
 "metadata": {
  "kernelspec": {
   "display_name": "Python 3",
   "language": "python",
   "name": "python3"
  },
  "language_info": {
   "codemirror_mode": {
    "name": "ipython",
    "version": 3
   },
   "file_extension": ".py",
   "mimetype": "text/x-python",
   "name": "python",
   "nbconvert_exporter": "python",
   "pygments_lexer": "ipython3",
   "version": "3.7.4"
  }
 },
 "nbformat": 4,
 "nbformat_minor": 2
}
