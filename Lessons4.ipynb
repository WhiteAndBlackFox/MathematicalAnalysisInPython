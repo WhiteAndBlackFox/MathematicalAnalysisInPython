{
 "cells": [
  {
   "cell_type": "markdown",
   "metadata": {},
   "source": [
    "# Тема “Предел функции”"
   ]
  },
  {
   "cell_type": "markdown",
   "metadata": {},
   "source": [
    "### 1. Предложить пример функции, не имеющей предела в нуле и в бесконечностях.\n",
    "\n",
    "\n",
    "$$ \\lim_{x \\to 0} \\frac{x}{x^2 + 1}$$\n"
   ]
  },
  {
   "cell_type": "markdown",
   "metadata": {},
   "source": [
    "### 2. Привести пример функции, не имеющей предела в точке, но определенной в ней.\n",
    "\n",
    "$$ f(x) = \\tan{(x)} $$"
   ]
  },
  {
   "cell_type": "markdown",
   "metadata": {},
   "source": [
    "### 3. Исследовать функцию по плану:\n",
    "\n",
    "Фуникция: $ f(x) = x^3 - x^2$\n",
    "\n",
    "a. Область задания и область значений.\n",
    "\n",
    "Не ограничена, т.е. от $-\\infty$ до $+\\infty$\n",
    "\n",
    "b. Нули функции и их кратность.\n",
    "\n",
    "$ x_1 = 0 $ \n",
    "\n",
    "$ x_2 = 1 $\n",
    "\n",
    "c. Отрезки знакопостоянства.\n",
    "\n",
    "$ (-\\infty; 0]; [0; 1]; [1; +\\infty) $\n",
    "\n",
    "d. Интервалы монотонности.\n",
    "\n",
    "$ (-\\infty; 0]; [0; \\frac{2}{3}]; [\\frac{2}{3}; +\\infty) $\n",
    "\n",
    "e. Четность функции.\n",
    "\n",
    "Не обладает свойством чётности\n",
    "\n",
    "f. Ограниченность.\n",
    "\n",
    "Функция не ограничена.\n",
    "\n",
    "g. Периодичность.\n",
    "\n",
    "Функция не периодична."
   ]
  },
  {
   "cell_type": "markdown",
   "metadata": {},
   "source": [
    "### 4. Найти предел\n",
    "\n",
    "a. $ \\lim_{x \\to 0} \\frac{3x^{3} - 2x^{2}}{4x^{2}} = -\\dfrac{1}{2} $\n",
    "\n",
    "b. $ \\lim_{x \\to 0} \\frac{\\sqrt{1 + x} - 1}{\\sqrt[3]{1 + x} - 1} = \\dfrac{3}{2} $ \n",
    "\n",
    "c. $ \\lim_{x \\to \\infty} (\\dfrac{x + 3}{x}) ^ {4x + 1} =e^{12} $"
   ]
  },
  {
   "cell_type": "markdown",
   "metadata": {},
   "source": [
    "# Тема “Теоремы о пределах”"
   ]
  },
  {
   "cell_type": "markdown",
   "metadata": {},
   "source": [
    "### 1. Найти предел:\n",
    "\n",
    "a. $ \\lim_{x \\to 0}{\\frac{\\sin{(2x)}}{4x}} = \\frac{1}{2} $\n",
    "\n",
    "b. $ \\lim_{x \\to 0}{\\frac{x}{\\sin{(x)}}} = 1 $\n",
    "\n",
    "c. $ \\lim_{x \\to 0}{\\frac{x}{\\arcsin{(x)}}} = 1 $\n",
    "\n",
    "d. $ \\lim_{x \\to \\infty}{(\\frac{4x + 3}{4x - 3}) ^ {6x}} = e ^ {9} $\n",
    "\n",
    "e. $ \\lim_{x \\to \\infty}{\\frac{\\sin{x} + \\ln{x}}{x}} = 0 $\n",
    "\n",
    "f. $ \\lim_{x \\to 0}{\\frac{\\sin{x} + \\ln{x}}{x}} = \\infty $"
   ]
  }
 ],
 "metadata": {
  "kernelspec": {
   "display_name": "Python 3",
   "language": "python",
   "name": "python3"
  },
  "language_info": {
   "codemirror_mode": {
    "name": "ipython",
    "version": 3
   },
   "file_extension": ".py",
   "mimetype": "text/x-python",
   "name": "python",
   "nbconvert_exporter": "python",
   "pygments_lexer": "ipython3",
   "version": "3.7.4"
  }
 },
 "nbformat": 4,
 "nbformat_minor": 2
}
