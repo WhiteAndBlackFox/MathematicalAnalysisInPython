{
 "cells": [
  {
   "cell_type": "markdown",
   "metadata": {},
   "source": [
    "# Ряды. Интегралы"
   ]
  },
  {
   "cell_type": "markdown",
   "metadata": {},
   "source": [
    "## Вычислить интегралы"
   ]
  },
  {
   "cell_type": "markdown",
   "metadata": {},
   "source": [
    "### 1.\n",
    "\n",
    "$$ \\displaystyle \\int\\dfrac{2x + 3}{(x - 2)(x + 5)}dx = \\displaystyle \\int\\dfrac{A(x + 5) + B(x - 2)}{(x - 2)(x + 5)}dx $$\n",
    "\n",
    "$$ 2x - 3 = A(x + 5) + B(x - 2) $$\n",
    "\n",
    "$$  \\left\\{ \\begin{array}{ll} 5A - 2B = 3 \\quad \\Rightarrow A = 1 \\\\ A + B = 2 \\qquad \\Rightarrow B = 1 \\end{array} \\right. $$\n",
    "\n",
    "$$ \\displaystyle \\int \\dfrac{1}{x - 2} + \\dfrac{1}{x + 5}dx = \\ln(x - 2) + \\ln(x + 5) + c $$"
   ]
  },
  {
   "cell_type": "markdown",
   "metadata": {},
   "source": [
    "### 2.\n",
    "\n",
    "\n",
    "$$ \\displaystyle \\int e^{2x}\\cos(3x) dx $$\n",
    "\n",
    "$$ U = \\cos(3x) \\qquad U^{'} = -3\\sin(3x) $$\n",
    "\n",
    "$$ V^{'} = e^{2x} \\qquad\\quad V = \\dfrac{e^{2x}}{2} $$\n",
    "\n",
    "$$ \\displaystyle \\int e^{2x}\\cos(3x) dx = e^{2x} \\dfrac{\\cos(3x)}{2} + \\int 3e^{2x}\\sin(3x) dx $$\n",
    "\n",
    "$$ U = \\dfrac{3\\sin(3x)}{2} \\qquad U^{'} = \\dfrac{9}{2}\\cos(3x) $$\n",
    "\n",
    "$$ V^{'} = e^{2x} \\qquad\\qquad V = \\dfrac{e^{2x}}{2} $$\n",
    "\n",
    "$$ \\displaystyle \\int e^{2x}\\cos(3x) dx = e^{2x} \\dfrac{\\cos(3x)}{2} + e^{2x} \\dfrac{\\sin(3x)}{4} - \\int \\dfrac{9}{4}e^{2x}\\cos(3x) dx $$\n",
    "\n",
    "$$ \\displaystyle \\int e^{2x}\\cos(3x) dx = \\dfrac{4}{13} \\left(\\dfrac{3}{4}e^{2x}\\sin(3x) + e^{2x}\\dfrac{\\cos(3x)}{2} \\right) $$"
   ]
  },
  {
   "cell_type": "markdown",
   "metadata": {},
   "source": [
    "### 3. \n",
    "\n",
    "\n",
    "$$ \\displaystyle \\int_0^{ln(2)} xe^{-x}dx $$\n",
    "\n",
    "$$ U = x \\qquad\\quad U^{'} = 1 $$\n",
    "\n",
    "$$ V^{'} = e^{-x} \\qquad V = -e^{-x} $$\n",
    "\n",
    "$$ \\displaystyle -xe^{-x} + \\int e^{-x} dx = -xe^{-x} - e^{-x} = -e^{-x}(x + 1) $$\n",
    "\n",
    "$$ \\displaystyle \\int_0^{ln(2)} xe^{-x}dx = -e^{-x}(x + 1) \\bigg|_0^{\\ln(2)} = 2(\\ln(2) + 1) - 1 \\approx 0.386 $$"
   ]
  },
  {
   "cell_type": "markdown",
   "metadata": {},
   "source": [
    "### 4. Разложить функцию 𝑦 = 𝑒^𝑥 в ряд Маклорена, а также в ряд Фурье на отрезке [−𝜋; 𝜋]. Построить график функции и разложения:\n",
    "\n",
    "#### Ряд Маклорена\n",
    "\n",
    "$f(x) = \\displaystyle \\sum_{n=0}^{\\infty}\\frac{f^{(n)}(0)}{n!}$\n",
    "\n",
    "$e^x = \\frac{e^0}{0!}x^0 + \\frac{e^0}{1!}x^1 + \\frac{e^0}{2!}x^2 + \\dots = 1 + \\frac{x}{1!} + \\frac{x^2}{2!}+\\dots = \\displaystyle \\sum_{n=0}^{\\infty}\\frac{x^n}{n!}$\n",
    "\n",
    "#### Ряд Фурье\n",
    "\n",
    "$f(x) = a_0 + \\displaystyle \\sum_{n=1}^{\\infty}(a_n\\cos(nx) + b_n\\sin(nx)), \\text{на отрезке} [-\\pi; \\pi]$\n",
    "\n",
    "$\\displaystyle a_0 = \\frac{1}{2\\pi} \\int_{-\\pi}^{\\pi}f(x)\\mathrm{d}x$\n",
    "\n",
    "$\\displaystyle a_n = \\frac{1}{\\pi} \\int_{-\\pi}^{\\pi}f(x)\\cos(nx)\\mathrm{d}x$\n",
    "\n",
    "$\\displaystyle b_n = \\frac{1}{\\pi} \\int_{-\\pi}^{\\pi}f(x)\\sin(nx)\\mathrm{d}x$\n",
    "\n",
    "$\\displaystyle a_0 = \\frac{1}{2\\pi} \\int_{-\\pi}^{\\pi}e^x\\mathrm{d}x = \\left.\\frac{1}{2\\pi} (e^x)\\right|_{-\\pi}^{\\pi} = \\frac{e^{\\pi}}{2\\pi} - \\frac{e^{-\\pi}}{2\\pi} = \\frac{e^{\\pi} - e^{-\\pi}}{2\\pi}$\n",
    "\n",
    "$\\displaystyle a_n = \\frac{1}{\\pi} \\int_{-\\pi}^{\\pi}e^x\\cos(nx)\\mathrm{d}x$\n",
    "\n",
    "$U = e^x \\quad \\mathrm{d}U = e^x\\mathrm{d}x$\n",
    "\n",
    "$\\mathrm{d}V = \\cos(nx)\\mathrm{d}x \\quad V = \\frac{1}{n}\\sin(nx)$\n",
    "\n",
    "$\\displaystyle \\frac{1}{\\pi} \\int_{-\\pi}^{\\pi}e^x\\cos(nx)\\mathrm{d}x = \\left. \\left( \\frac{1}{\\pi n} e^x \\sin(nx)\\right)\\right|{\\pi}^{\\pi} - \\frac{1}{\\pi n} \\int{-\\pi}^{\\pi}e^x\\sin(nx)\\mathrm{d}x = \\left. \\left( \\frac{1}{\\pi n^2} e^x \\cos(nx) \\right) \\right|{-\\pi}^{\\pi} - \\frac{1}{\\pi n^2} \\int{-\\pi}^{\\pi}e^x\\cos(nx)\\mathrm{d}x$\n",
    "\n",
    "$U = e^x \\quad \\mathrm{d}U = e^x\\mathrm{d}x$\n",
    "\n",
    "$\\mathrm{d}V = \\sin(nx)\\mathrm{d}x \\quad V = - \\frac{1}{n}\\cos(nx)$\n",
    "\n",
    "$\\displaystyle \\frac{1}{\\pi} \\int_{-\\pi}^{\\pi}e^x\\cos(nx)\\mathrm{d}x = \\frac{(e^{\\pi} - e^{-\\pi})(-1)^n}{\\pi(n^2 + 1)}$\n",
    "\n",
    "$\\displaystyle b_n = \\frac{1}{\\pi} \\int_{-\\pi}^{\\pi}e^x\\sin(nx)\\mathrm{d}x$\n",
    "\n",
    "$U = e^x \\quad \\mathrm{d}U = e^x\\mathrm{d}x$\n",
    "\n",
    "$\\mathrm{d}V = \\sin(nx)\\mathrm{d}x \\quad V = - \\frac{1}{n}\\cos(nx)$\n",
    "\n",
    "$\\displaystyle \\frac{1}{\\pi} \\int_{-\\pi}^{\\pi}e^x\\sin(nx)\\mathrm{d}x = \\left. \\left( -\\frac{1}{\\pi n} e^x \\cos(nx)\\right)\\right|{\\pi}^{\\pi} + \\frac{1}{\\pi n} \\int{-\\pi}^{\\pi}e^x\\cos(nx)\\mathrm{d}x = \\left. \\left( -\\frac{1}{\\pi n} e^x \\cos(nx) \\right) \\right|{-\\pi}^{\\pi} + \\left. \\left( \\frac{1}{\\pi n^2} e^x \\sin(nx) \\right) \\right|{-\\pi}^{\\pi} - \\frac{1}{\\pi n^2} \\int_{-\\pi}^{\\pi}e^x\\sin(nx)\\mathrm{d}x$\n",
    "\n",
    "$U = e^x \\quad \\mathrm{d}U = e^x\\mathrm{d}x$\n",
    "\n",
    "$\\mathrm{d}V = \\cos(nx)\\mathrm{d}x \\quad V = \\frac{1}{n}\\sin(nx)$\n",
    "\n",
    "$\\displaystyle \\frac{1}{\\pi} \\int_{-\\pi}^{\\pi}e^x\\sin(nx)\\mathrm{d}x = \\frac{n(e^{- \\pi} - e^{\\pi})(-1)^n}{\\pi(n^2 + 1)}$\n",
    "\n",
    "$e^x = \\frac{e^{\\pi} - e^{-\\pi}}{2\\pi} + \\displaystyle \\sum_{n=1}^{\\infty}\\left(\\frac{(e^{\\pi} - e^{-\\pi})(-1)^n}{\\pi(n^2 + 1)} \\cdot \\cos(nx) + \\frac{n(e^{- \\pi} - e^{\\pi})(-1)^n}{\\pi(n^2 + 1)} \\cdot \\sin(nx)\\right)$"
   ]
  },
  {
   "cell_type": "code",
   "execution_count": null,
   "metadata": {},
   "outputs": [],
   "source": []
  }
 ],
 "metadata": {
  "kernelspec": {
   "display_name": "Python 3",
   "language": "python",
   "name": "python3"
  },
  "language_info": {
   "codemirror_mode": {
    "name": "ipython",
    "version": 3
   },
   "file_extension": ".py",
   "mimetype": "text/x-python",
   "name": "python",
   "nbconvert_exporter": "python",
   "pygments_lexer": "ipython3",
   "version": "3.7.4"
  }
 },
 "nbformat": 4,
 "nbformat_minor": 2
}
