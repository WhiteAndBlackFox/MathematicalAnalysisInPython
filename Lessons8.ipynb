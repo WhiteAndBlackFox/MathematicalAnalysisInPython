{
 "cells": [
  {
   "cell_type": "markdown",
   "metadata": {},
   "source": [
    "# Найти частные производные первого и второго порядка."
   ]
  },
  {
   "cell_type": "markdown",
   "metadata": {},
   "source": [
    "## Убедиться в равенстве смешанных производных."
   ]
  },
  {
   "cell_type": "markdown",
   "metadata": {},
   "source": [
    "1. $$ U = x^{3} + 3xy^{2} + z^{2} - 39x - 36y + 2z + 26 $$\n",
    "$$ 𝑈'_{𝑥} = 3𝑥^{2} + 3𝑦^{2}-39 $$\n",
    "$$ 𝑈'_{𝑦} = 6𝑥𝑦 - 36 $$\n",
    "$$ 𝑈'_{𝑧} = 2𝑧 + 2 $$\n",
    "$$ 𝑈\"_{𝑥𝑥} = 𝑈\"𝑦𝑦 = 6𝑥 $$\n",
    "$$ 𝑈\"_{𝑧𝑧} = 2 $$\n",
    "$$ 𝑈\"_{𝑥𝑦} = 𝑈\"_{𝑦𝑥} = 6𝑦 $$\n",
    "$$ 𝑈\"_{𝑥𝑧} = 𝑈\"_{𝑦𝑧} = 𝑈\"_{𝑧𝑦} = 𝑈\"_{𝑧𝑥} = 0 $$\n",
    "\n",
    "\n",
    "2. $$ U = \\frac{256}{x} + \\frac{x^{2}}{y} + \\frac{y^{2}}{z} + z^{2} $$\n",
    "$$ U = 256x^{-1} + x^{2}y^{-1} + y^{2}z^{-1} + z^{2}$$\n",
    "$$ U'_{x} = -256x^{-2} + 2xy^{-1}$$\n",
    "$$ U'_{y} = -x^{2}y^{-2} + 2yz^{-1}$$\n",
    "$$ U'_{z} = -y^{2}z^{-2} + 2z $$\n",
    "$$ U''_{xy} = -2xy^{-2} $$\n",
    "$$ U''_{xz} = 0 $$\n",
    "$$ U''_{yx} = -2xy^{-2} $$\n",
    "$$ U''_{yz} = -2yz^{-2} $$\n",
    "$$ U''_{zx} = 0 $$\n",
    "$$ U''_{zy} = -2yz^{-2} $$"
   ]
  },
  {
   "cell_type": "markdown",
   "metadata": {},
   "source": [
    "3. "
   ]
  },
  {
   "cell_type": "markdown",
   "metadata": {},
   "source": [
    "### Найти производную функции $ U = x^{2} + y^{2} + z^{2} $ по направлению вектора $ \\overrightarrow{c}(-9, 8, -12) $ в точке $ M(8; -12; 9) $"
   ]
  },
  {
   "cell_type": "markdown",
   "metadata": {},
   "source": [
    "$$ U = x^{2} + y^{2} + z^{2} $$\n",
    "$$ \\overrightarrow{c} = (-9, 8, 12) $$\n",
    "$$ M = (8; -12; 9)$$\n",
    "$$ U'_{x} = 2x $$\n",
    "$$ U'_{y} = 2y $$\n",
    "$$ U'_{z} = 2z $$\n",
    "$$ gradU = (2x, 2y, 2z) $$\n",
    "$$ |\\overrightarrow{c}| = \\sqrt{81 + 64 + 144} = 17 $$\n",
    "$$ \\overline{c_{0}} = \\dfrac{\\overline{c}}{|\\overline{c}|} = \\left( -\\dfrac{9}{17}, \\dfrac{8}{17}, -\\dfrac{12}{17} \\right) $$\n",
    "$$ gradU_{M} = (16, -24, 18) $$\n",
    "$$ U'_{\\overline{c}} \\vert_{M} = -\\dfrac{9 \\cdot 16}{17} + \\dfrac{-24 \\cdot 8}{17} + \\dfrac{-18 \\cdot 12}{17} \\thickapprox -32,47$$"
   ]
  },
  {
   "cell_type": "markdown",
   "metadata": {},
   "source": [
    "4. "
   ]
  },
  {
   "cell_type": "markdown",
   "metadata": {},
   "source": [
    "### Найти производную функции $ U = e^{x^{2} + y^{2} + z^{2}} $ по направлению вектора $ \\overrightarrow{d}(4, -13, -16) $ в точке $ M(-16; 4; -13) $"
   ]
  },
  {
   "cell_type": "markdown",
   "metadata": {},
   "source": [
    "$$ U = e^{x^{2} + y^{2} + z^{2}} $$\n",
    "$$ \\overrightarrow{d} = (4, -13, -16) $$\n",
    "$$ L = (-16; 4; -13) $$\n",
    "$$ gradU = (2xe^{x^{2} + y^{2} + z^{2}}, 2ye^{x^{2} + y^{2} + z^{2}}, 2ze^{x^{2} + y^{2} + z^{2}}) $$\n",
    "$$ |\\overrightarrow{d}| = 21 $$\n",
    "$$ \\overline{d_{0}} = \\left( \\frac{4}{21}, -\\frac{13}{21}, -\\frac{16}{21} \\right)$$\n",
    "$$ gradU_{L} = (-32e^{441}, 8e^{441}, -26e^{441}) $$\n",
    "$$ U'_{\\overline{d}} \\vert_{L} = \\dfrac{(-128 - 104 +416)e^{441}}{21} \\thickapprox 8,76 \\cdot e^{441}$$"
   ]
  },
  {
   "cell_type": "markdown",
   "metadata": {},
   "source": [
    "5."
   ]
  },
  {
   "cell_type": "markdown",
   "metadata": {},
   "source": [
    "### Найти производную функции $ U = \\log_{21}{x^{2} + y^{2} + z^{2}} $ в точке $ F(-19; 8; -4) $ по самому быстрому направлению"
   ]
  },
  {
   "cell_type": "markdown",
   "metadata": {},
   "source": [
    "$$ grad𝑈 = (𝑈'_{𝑥}, 𝑈'_{𝑦}, 𝑈'_{𝑧}) $$\n",
    "$$ 𝑈'_{𝑥} = \\frac{2𝑥}{\\ln{21}(𝑥^{2} + 𝑦^{2} + 𝑧^{2})} $$\n",
    "$$ 𝑈'_{y} = \\frac{2y}{\\ln{21}(𝑥^{2} + 𝑦^{2} + 𝑧^{2})} $$\n",
    "$$ 𝑈'_{z} = \\frac{2z}{\\ln{21}(𝑥^{2} + 𝑦^{2} + 𝑧^{2})} $$\n",
    "$$ gradU = (U'_{x}, U'_{y}, U'_{z}) = ( \\frac{2𝑥}{\\ln{21}(𝑥^{2} + 𝑦^{2} + 𝑧^{2})},  \\frac{2y}{\\ln{21}(𝑥^{2} + 𝑦^{2} + 𝑧^{2})}, \\frac{2z}{\\ln{21}(𝑥^{2} + 𝑦^{2} + 𝑧^{2})} ) $$\n",
    "$$  = (\\frac{-38}{441 * \\ln{21}}; \\frac{16}{441 * \\ln{21}}; \\frac{-8}{441 * \\ln{21}} ) $$\n",
    "$$ |gradU(−19; 8; −4)| = \\sqrt{(-\\frac{38}{441ln21})^2 + (\\frac{16}{441ln21})^2 + (-\\frac{8}{441ln21})^2} = \\sqrt{\\frac{1444}{441^2ln^2{21}} + \\frac{256}{441^2ln^2{21}} + \\frac{64}{441^2ln^2{21}}} = \\sqrt{\\frac{1764}{441^2ln^2{21}}} = \\frac{42}{441ln21} $$\n",
    "$$ |gradU_0(−19; 8; −4)| = (-\\frac{798}{441ln21}; \\frac{336}{441ln21}; -\\frac{168}{441ln21}) $$\n",
    "$$ |U'_{gradU}(−19; 8; −4)| = \\frac{798\\cdot38}{441^2ln^2{21}} + \\frac{336\\cdot16}{441^2ln^2{21}} + \\frac{168\\cdot8}{441^2ln^2{21}} = \\frac{37044}{441^2ln^2{21}} = \\frac{84}{441ln^2{21}} $$"
   ]
  },
  {
   "cell_type": "markdown",
   "metadata": {},
   "source": [
    "## Исследовать на экстремум следующие функции:"
   ]
  },
  {
   "cell_type": "markdown",
   "metadata": {},
   "source": [
    "6. $ U = x^{2}y + \\dfrac{y^{3}}{3} + 2x^{2} + 3y^{2} - 1$"
   ]
  },
  {
   "cell_type": "markdown",
   "metadata": {},
   "source": [
    "$\\left\\{ \\begin{array}{ll} U'_{x} = 2xy + 4x = 0 \\\\ U'_{y} = x^{2} + y^{2} + 6y \\end{array} \\right.$\n",
    "\n",
    "$ T_{1} = (2 \\sqrt{2}, -2)$\n",
    "\n",
    "$ T_{2} = (-2 \\sqrt{2}, -2)$\n",
    "\n",
    "$ T_{3} = (0, 0) $\n",
    "\n",
    "$ T_{4} = (0, -6) $\n",
    "\n",
    "$ \\begin{pmatrix} 2y + 4 | 2x \\\\ 2x | 2y + 6 \\end{pmatrix} \\qquad $\n",
    "\n",
    "* метод Гессе не подходит\n",
    "\n",
    "$ T_{1} : \\vartriangle_{1} = 0 $\n",
    "\n",
    "$ T_{2} : \\vartriangle_{2} = 0 $\n",
    "\n",
    "* локальный минимум\n",
    "\n",
    "$ T_{3} : \\vartriangle_{1} = 4 > 0 $\n",
    "\n",
    "$         \\vartriangle_{2} = 24 > 0 $\n",
    "\n",
    "* локальный максимум\n",
    "\n",
    "$ T_{4} : \\vartriangle_{1} = -8 < 0 $\n",
    "\n",
    "$         \\vartriangle_{2} = 48 > 0 $"
   ]
  },
  {
   "cell_type": "markdown",
   "metadata": {},
   "source": [
    "7. $ U = e^{\\frac{-x}{2}}(x^{2} + y^{2}) $"
   ]
  },
  {
   "cell_type": "markdown",
   "metadata": {},
   "source": [
    "$\\left\\{ \\begin{array}{ll} U'_{x} = 2xe^{\\frac{-x}{2}-\\frac{(x^{2} + y^{2})e^{\\frac{-x}{2}}}{2}} = 0 \\\\ U'_{y} = 2ye^{\\frac{-x}{2}} = 0 \\end{array} \\right.$\n",
    "\n",
    "Из первого уравнения выражаем x и подставляем во второе уравнение: \n",
    "\n",
    "$ x_1 = -\\sqrt{-y^{2} + 4} + 2 = 0 $ \n",
    "\n",
    "$ y_1 = 0; x_1 = 0 $\n",
    "\n",
    "$ x_2 = \\sqrt{-y^{2} + 4} + 2 = 0 $ \n",
    "\n",
    "$ y_2 = 0; x_2 = 2 $\n",
    "\n",
    "Из первого уравнения выражаем y и подставляем во второе уравнение:\n",
    "\n",
    "$ y = 0 $\n",
    "\n",
    "$ x^{2} - 4x = 0 $\n",
    "\n",
    "Данные значения x подставляем в выражение для y. \n",
    "\n",
    "$ y_1 = 0 $\n",
    "\n",
    "$ y_2 = 0 $\n",
    "\n",
    "Критические точки: $ M_1(0;0) $, $ M_2(4;0) $\n",
    "\n",
    "Найдем частные производные второго порядка:\n",
    "\n",
    "$ U''_{xy} = -ye^{\\frac{-x}{2}} $\n",
    "\n",
    "$ U''_{xx} = -2xe^{\\frac{-x}{2}} - \\frac{-(\\frac{x^{2}}{2} + \\frac{y^{2}}{2})e^{\\frac{-x}{2}}}{2} + 2e^{\\frac{-x}{2}} $\n",
    "\n",
    "$ U''_{yy} = 2e^{\\frac{-x}{2}} $\n",
    "\n",
    "Вычислим значение этих частных производных второго порядка в критических точках M(x0;y0):\n",
    "\n",
    "Вычисляем значения для точки $M_1(0;0)$:\n",
    "\n",
    "$ A = U''_{xy} = 2 $\n",
    "\n",
    "$ B = U''_{xx} = 2 $\n",
    "\n",
    "$ C = U''_{yy} = 0 $\n",
    "\n",
    "$ AC-B^{2} = 4 > 0 $ и $ A > 0 $ => z(0;0) = 0\n",
    "\n",
    "Вычисляем значения для точки $M_2(4;0)$:\n",
    "\n",
    "$ A = U''_{xy} = -\\frac{2}{e^{2}} $\n",
    "\n",
    "$ B = U''_{xx} = \\frac{2}{e^{2}} $\n",
    "\n",
    "$ C = U''_{yy} = 0 $\n",
    "\n",
    "$ AC-B^{2} = -\\frac{4}{e^{4}} < 0 $ => глобального экстремума нет."
   ]
  },
  {
   "cell_type": "markdown",
   "metadata": {},
   "source": [
    "8."
   ]
  },
  {
   "cell_type": "markdown",
   "metadata": {},
   "source": [
    "### С помощь метода наименьшие квадратов (МНК) подобрать значения параметров 𝑎 и 𝑏 для сигмоидальной функции $ 𝑦 = \\frac{1}{1+e^{-ax+b}} $ по заданному распределению в файле \"SGN.ipynb\""
   ]
  },
  {
   "cell_type": "code",
   "execution_count": 8,
   "metadata": {},
   "outputs": [
    {
     "name": "stdout",
     "output_type": "stream",
     "text": [
      "0.8451908784915809 -0.03237186144303842\n",
      "0.8451908784915809 -0.03237186144303842\n"
     ]
    },
    {
     "data": {
      "image/png": "[encoded data removed]",
      "text/plain": [
       "<Figure size 432x288 with 1 Axes>"
      ]
     },
     "metadata": {
      "needs_background": "light"
     },
     "output_type": "display_data"
    }
   ],
   "source": [
    "\n",
    "import numpy as np\n",
    "import matplotlib.pyplot as plt\n",
    "from scipy.optimize import fsolve, broyden1\n",
    "import math\n",
    "\n",
    "\n",
    "# Задаем рандомное распределение точек\n",
    "x = np.random.uniform(-8, 8, 200)\n",
    "a = np.random.uniform(0.5, 1.5, 200)\n",
    "b = np.random.uniform(-1, 1, 200)\n",
    "\n",
    "y = 1/(1+np.exp(-a*x-b))\n",
    "plt.plot(x,y, marker=\"o\", ls=\"\")\n",
    "\n",
    "def equations(p):\n",
    "    A, B = p\n",
    "    # Запись системы уравнения вида x+y=2, x-y=0\n",
    "    return ((((2*x*np.exp(-A*x-B))/(1+np.exp(-A*x-B))**2)*(-y+1/(1+np.exp(-A*x-B)))).sum(), (((2*np.exp(-A*x-B))/(1+np.exp(-A*x-B))**2)*(-y+1/(1+np.exp(-A*x-B)))).sum())\n",
    "\n",
    "# Численное решение нелинечной системы уравнений\n",
    "A, B =  fsolve(equations, (1, 1))\n",
    "print (A, B)\n",
    "\n",
    "xa = np.linspace(-8, 8, 200)\n",
    "ya = 1/(1+np.exp(-A*xa-B))\n",
    "plt.plot(xa,ya)\n",
    "print (A, B)\n",
    "plt.show()"
   ]
  },
  {
   "cell_type": "code",
   "execution_count": null,
   "metadata": {},
   "outputs": [],
   "source": []
  }
 ],
 "metadata": {
  "kernelspec": {
   "display_name": "Python 3",
   "language": "python",
   "name": "python3"
  },
  "language_info": {
   "codemirror_mode": {
    "name": "ipython",
    "version": 3
   },
   "file_extension": ".py",
   "mimetype": "text/x-python",
   "name": "python",
   "nbconvert_exporter": "python",
   "pygments_lexer": "ipython3",
   "version": "3.7.4"
  }
 },
 "nbformat": 4,
 "nbformat_minor": 2
}
