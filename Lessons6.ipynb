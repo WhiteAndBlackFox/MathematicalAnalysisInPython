{
 "cells": [
  {
   "cell_type": "markdown",
   "metadata": {},
   "source": [
    "# Понятие о производной"
   ]
  },
  {
   "cell_type": "markdown",
   "metadata": {},
   "source": [
    "#### 1. Найти производную выражения:"
   ]
  },
  {
   "cell_type": "markdown",
   "metadata": {},
   "source": [
    "a. $ \\sin{x} * \\cos{x} = \\cos^{2}{x} + \\sin^{2}{x} $\n",
    "\n",
    "\n",
    "b. $ \\ln{(2x + 1)^{3}} = \\frac{6 \\ln^{2}{(2x+1)}}{2x+1}$\n",
    "\n",
    "\n",
    "c. $ \\sqrt{\\sin^{2}{(\\ln{(x^{3})})}} = \\frac{3\\sin(\\ln{(x^{3})}) * \\cos{(\\ln{(x^{3})})}}{x \\sqrt{\\sin^{2}{(\\ln{(x^{3})}})}} $\n",
    "\n",
    "\n",
    "d. $ \\frac{x^{4}}{\\ln{x}} = x^{3}*\\ln^{-2}{(x)}*(4\\ln{(x)} - 1) $"
   ]
  },
  {
   "cell_type": "markdown",
   "metadata": {},
   "source": [
    "#### 2. Найти выражение производной функции и ее значение в точке:"
   ]
  },
  {
   "cell_type": "markdown",
   "metadata": {},
   "source": [
    "$$ f(x) = \\cos{x^{2} + 3x}, x_0 = \\sqrt{\\pi} $$\n",
    "\n",
    "$$ f'(x) = - (2x + 3) * \\sin(x^{2} + 3 * x) $$\n",
    "\n",
    "$$ f'(x_0) = - (2\\sqrt{\\pi} + 3) * \\sin(\\sqrt{\\pi}^{2} + 3 * \\sqrt{\\pi}) $$"
   ]
  },
  {
   "cell_type": "code",
   "execution_count": 1,
   "metadata": {},
   "outputs": [],
   "source": [
    "import numpy as np"
   ]
  },
  {
   "cell_type": "code",
   "execution_count": 2,
   "metadata": {},
   "outputs": [
    {
     "data": {
      "text/plain": [
       "-5.383302410890619"
      ]
     },
     "execution_count": 2,
     "metadata": {},
     "output_type": "execute_result"
    }
   ],
   "source": [
    "-(3 + 2*np.sqrt(np.pi))*np.sin(np.sqrt(np.pi)**2 + 3*np.sqrt(np.pi))"
   ]
  },
  {
   "cell_type": "markdown",
   "metadata": {},
   "source": [
    "#### 3. Найти значение производной функции в точке:"
   ]
  },
  {
   "cell_type": "markdown",
   "metadata": {},
   "source": [
    "$$ f(x) = \\frac{x^{3} - x^{2} - x - 1}{1 + 2x + 3x^{2} - 4x^{3}}, x_0 = 0 $$\n",
    "\n",
    "$$ f'(x) = \\frac{ x(4 - 4x^{2} - x^{3} - 8x) + 1}{(x(3x - 4x^{2} + 2) + 1)^{2}} $$\n",
    "\n",
    "$$ f'(x_0) = \\frac{ 0(4 - 4 * 0^{2} - 0^{3} - 8 * 0) + 1}{(0 * (3 * 0 - 4 * 0^{2} + 2) + 1)^{2}} = 1 $$"
   ]
  },
  {
   "cell_type": "markdown",
   "metadata": {},
   "source": [
    "#### 4. Найти угол наклона касательной к графику функции в точке:"
   ]
  },
  {
   "cell_type": "markdown",
   "metadata": {},
   "source": [
    "$$ f(x) = \\sqrt{3x} * \\ln{x}, x_0 = 1 $$\n",
    "\n",
    "$$ f'(x) = \\frac{\\sqrt{3}}{\\sqrt{x}} * (\\frac{\\ln{x}}{2} + 1) $$\n",
    "\n",
    "$$ f'(x_0) = \\frac{\\sqrt{3}}{\\sqrt{1}}(\\frac{\\ln{1}}{2} + 1) = \\sqrt{3} = 60^{о} $$"
   ]
  }
 ],
 "metadata": {
  "kernelspec": {
   "display_name": "Python 3",
   "language": "python",
   "name": "python3"
  },
  "language_info": {
   "codemirror_mode": {
    "name": "ipython",
    "version": 3
   },
   "file_extension": ".py",
   "mimetype": "text/x-python",
   "name": "python",
   "nbconvert_exporter": "python",
   "pygments_lexer": "ipython3",
   "version": "3.7.4"
  }
 },
 "nbformat": 4,
 "nbformat_minor": 2
}
