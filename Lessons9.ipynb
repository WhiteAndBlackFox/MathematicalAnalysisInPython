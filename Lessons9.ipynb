{
 "cells": [
  {
   "cell_type": "markdown",
   "metadata": {},
   "source": [
    "# Исследовать на условный экстремум"
   ]
  },
  {
   "cell_type": "markdown",
   "metadata": {},
   "source": [
    "1. $ U = 3 -8x +6y $, если $ x^{2} + y^{2} = 36 $\n",
    "\n",
    "$L(\\lambda_1, x, y) = 3 - 8x + 6y + \\lambda_1 * (x^2 + y^2 - 36)$\n",
    "$\\left\\{\\begin{array}{ll}\n",
    "L_x' = -8 + \\lambda_1 * 2x = 0\\\\\n",
    "L_y' = 6 + \\lambda_1 * 2y = 0\\\\\n",
    "L_{\\lambda_1}' = x^2 + y^2 - 36 = 0\n",
    "\\end{array}\\right.\\Rightarrow $ $\\left\\{\\begin{array}{ll}\n",
    "x = \\frac{8}{2\\lambda_1}\\\\\n",
    "y = -\\frac{6}{2\\lambda_1}\\\\\n",
    "\\frac{64}{4\\lambda_1^2} + \\frac{36}{4\\lambda_1^2} = 36\n",
    "\\end{array}\\right.\\Rightarrow $ $\\left\\{\\begin{array}{ll}\n",
    "x = \\frac{8}{2\\lambda_1}\\\\\n",
    "y = -\\frac{6}{2\\lambda_1}\\\\\n",
    "\\lambda_1^2 = \\frac{25}{36}\n",
    "\\end{array}\\right.\\Rightarrow $\n",
    "\n",
    "Экстремумы $(\\frac{5}{6}, 4.8, -3.6), (-\\frac{5}{6}, -4.8, 3.6)$\n",
    "\n",
    "$L_{xx}'' = 2\\lambda_1$, $L_{yy}'' = 2\\lambda_1$, $L_{\\lambda_1\\lambda_1}'' = 0$\n",
    "\n",
    "$L_{xy}'' = 0$, $L_{x\\lambda_1}'' = 2x$, $L_{y\\lambda_1}'' = 2y$\n",
    "\n",
    "$\\begin{pmatrix}\n",
    "L_{\\lambda_1\\lambda_1}'' | L_{\\lambda_1x}'' | L_{\\lambda_1y}''\\\\\n",
    "L_{x\\lambda_1}'' | L_{xx}'' | L_{xy}''\\\\\n",
    "L_{y\\lambda_1}'' | L_{yx}'' | L_{yy}''\n",
    "\\end{pmatrix}$= $\\begin{pmatrix}\n",
    "0 | 2x | 2y\\\\\n",
    "2x | 2\\lambda_1 | 0\\\\\n",
    "2y | 0 | 2\\lambda_1\n",
    "\\end{pmatrix}$\n",
    "\n",
    "$\\left|\\begin{array}{ll}\n",
    "0 | 2x | 2y\\\\\n",
    "2x | 2\\lambda_1 | 0\\\\\n",
    "2y | 0 | 2\\lambda_1\n",
    "\\end{array}\\right|$= 0 $\\left|\\begin{array}{ll}\n",
    "2\\lambda_1 | 0\\\\\n",
    "0 | 2\\lambda_1\n",
    "\\end{array}\\right|$- 2x $\\left|\\begin{array}{ll}\n",
    "2x | 0\\\\\n",
    "2y | 2\\lambda_1\n",
    "\\end{array}\\right|$+ 2y* $\\left|\\begin{array}{ll}\n",
    "2x | 2\\lambda_1\\\\\n",
    "2y | 0\n",
    "\\end{array}\\right|$ =  $ 0 - 2x * (2x * 2\\lambda_1 - 0) + 2y * (0 - 2y * 2\\lambda_1) = -8\\lambda_1(x^2 + y^2) $\n",
    "\n",
    "Точка минимума $(\\frac{5}{6}, 4.8, -3.6)$(определитель отрицательный), точка максимума $(-\\frac{5}{6}, -4.8, 3.6)$"
   ]
  },
  {
   "cell_type": "markdown",
   "metadata": {},
   "source": [
    "2. $ U = 2x^{2} + 12xy + 32y^{2} + 15 $, если $ x^{2} + 16y^{2} = 64 $\n",
    "\n",
    "$L(\\lambda_1, x, y) = 2x^2 + 12xy + 32y^2 + 15 + \\lambda_1 * (x^2 + 16y^2 - 64)$\n",
    "\n",
    "$\\left\\{\\begin{array}{ll}\n",
    "L_x' = 4x + 12y + \\lambda_1 * 2x = 0\\\\\n",
    "L_y' = 12x + 64y + \\lambda_1 * 32y = 0\\\\\n",
    "L_{\\lambda_1}' = x^2 + 16y^2 - 64 = 0\n",
    "\\end{array}\\right.\\Rightarrow $\n",
    "\n",
    "Экстремумы $(-4\\sqrt 2, -\\sqrt 2, -\\frac{7}{2}), (-4\\sqrt 2, \\sqrt2, -\\frac{1}{2}), (4\\sqrt 2, -\\sqrt2, -\\frac{1}{2}), (4\\sqrt 2, \\sqrt2, -\\frac{7}{2})$\n",
    "\n",
    "$L_{xx}'' = 4 + 2\\lambda_1$, $L_{yy}'' = 64 + 32\\lambda_1$, $L_{\\lambda_1\\lambda_1}'' = 0$\n",
    "\n",
    "$L_{xy}'' = 12$, $L_{x\\lambda_1}'' = 2x$, $L_{y\\lambda_1}'' = 32y$\n",
    "\n",
    "$\\begin{pmatrix}\n",
    "L_{\\lambda_1\\lambda_1}'' | L_{\\lambda_1x}'' | L_{\\lambda_1y}''\\\\\n",
    "L_{x\\lambda_1}'' | L_{xx}'' | L_{xy}''\\\\\n",
    "L_{y\\lambda_1}'' | L_{yx}'' | L_{yy}''\n",
    "\\end{pmatrix}$= $\\begin{pmatrix}\n",
    "0 | 2x | 32y\\\\\n",
    "2x | 4 + 2\\lambda_1 | 12\\\\\n",
    "32y | 12 | 64 + 32\\lambda_1\n",
    "\\end{pmatrix}$\n",
    "\n",
    "$\\left|\\begin{array}{ll}\n",
    "0 | 2x | 32y\\\\\n",
    "2x | 4 + 2\\lambda_1 | 12\\\\\n",
    "32y | 12 | 64 + 32\\lambda_1\n",
    "\\end{array}\\right|$= 0 $\\left|\\begin{array}{ll}\n",
    "4 + 2\\lambda_1 | 12\\\\\n",
    "12 | 64 + 32\\lambda_1\n",
    "\\end{array}\\right|$- 2x $\\left|\\begin{array}{ll}\n",
    "2x | 12\\\\\n",
    "32y | 64 + 32\\lambda_1\n",
    "\\end{array}\\right|$+ 32y* $\\left|\\begin{array}{ll}\n",
    "2x | 4 + 2\\lambda_1\\\\\n",
    "32y | 12\n",
    "\\end{array}\\right|$ = $ = 0 - (2x*(2x*(64 + 32\\lambda_1))-384y) + 32y * (24x -(32y(4+2\\lambda_1)))$\n",
    "\n",
    "$\\left(- \\frac{7}{2}, 4\\sqrt{2}, \\sqrt{2} \\right),\\Delta_1 = 24576, \\Delta_1 > 0  \\implies \\text{точка максимума}$\n",
    "\n",
    "$\\left(- \\frac{1}{2}, 4\\sqrt{2}, -\\sqrt{2} \\right),\\Delta_1 = -24576, \\Delta_1 < 0  \\implies \\text{точка минимума}$\n",
    "\n",
    "$\\left(- \\frac{1}{2}, -4\\sqrt{2}, \\sqrt{2} \\right),\\Delta_1 = -24576, \\Delta_1 < 0  \\implies \\text{точка минимума}$\n",
    "\n",
    "$\\left(- \\frac{7}{2}, -4\\sqrt{2}, -\\sqrt{2} \\right),\\Delta_1 = 24576, \\Delta_1 > 0  \\implies \\text{точка максимума}$\n"
   ]
  },
  {
   "cell_type": "markdown",
   "metadata": {},
   "source": [
    "3. Числено найти хотя бы один действитеольных корней системы нелинейных уроавнений.\n",
    "\n",
    "\n",
    "$\\left\\{\\begin{array}{ll}\n",
    "x^2 - y^2 + 3xy^3 - 2x^2y^2 + 2x - 3y - 5 = 0\\\\\n",
    "3y^3 - 2x^2 + 2x^3y - 5x^2y^2 + 5 = 0\n",
    "\\end{array}\\right.$"
   ]
  },
  {
   "cell_type": "code",
   "execution_count": 2,
   "metadata": {},
   "outputs": [
    {
     "name": "stdout",
     "output_type": "stream",
     "text": [
      "[-3.78730114 -0.32487076] 1\n"
     ]
    }
   ],
   "source": [
    "from scipy.optimize import fsolve\n",
    "\n",
    "def equations(p):\n",
    "    x, y = p\n",
    "    f1 = x**2 - y**2 + 3*x*y**3 - 2*x**2 * y**2 +2*x -3*y - 5\n",
    "    f2 = 3*y*3 - 2*x*2 + 2*x*3*y - 5*x*2*y*2 + 5\n",
    "    return(f1, f2)\n",
    "\n",
    "\n",
    "solv, info, ier, mesg =  fsolve(equations, (-5, -1), full_output=True)\n",
    "print (solv, ier)"
   ]
  },
  {
   "cell_type": "markdown",
   "metadata": {},
   "source": [
    "4. Предложить алгоритм, который найдет все 5 действительных корней."
   ]
  },
  {
   "cell_type": "code",
   "execution_count": 4,
   "metadata": {},
   "outputs": [
    {
     "name": "stdout",
     "output_type": "stream",
     "text": [
      "(-3.65307996, -0.27476341) (2.21775363, 0.61019397) (2.49435653, 0.70831752) (1.37568714, -0.17475798) (1.27330206, 1.66203912)\n"
     ]
    }
   ],
   "source": [
    "import numpy as np\n",
    "from scipy.optimize import fsolve\n",
    "import math\n",
    "\n",
    "def equations(p):\n",
    "    x, y = p\n",
    "    return (x**2-y**2+3*x*y**3-2*x**2*y**2+2*x-3*y-5, 3*y**3-2*x**2+2*x**3*y-5*x**2*y**2+5)\n",
    "\n",
    "solv = set()\n",
    "length = 100\n",
    "step = 4\n",
    "\n",
    "for x in np.arange (-length, length, step):\n",
    "    for y in np.arange (-length, length, step):\n",
    "        (x, y), info, ier, mesg =  fsolve(equations, (x, y), full_output=True)\n",
    "        if (ier == 1): solv.add((int(x*10**8)/10**8, int(y*10**8)/10**8))\n",
    "            \n",
    "print (*solv)"
   ]
  },
  {
   "cell_type": "code",
   "execution_count": null,
   "metadata": {},
   "outputs": [],
   "source": []
  }
 ],
 "metadata": {
  "kernelspec": {
   "display_name": "Python 3",
   "language": "python",
   "name": "python3"
  },
  "language_info": {
   "codemirror_mode": {
    "name": "ipython",
    "version": 3
   },
   "file_extension": ".py",
   "mimetype": "text/x-python",
   "name": "python",
   "nbconvert_exporter": "python",
   "pygments_lexer": "ipython3",
   "version": "3.7.4"
  }
 },
 "nbformat": 4,
 "nbformat_minor": 2
}
