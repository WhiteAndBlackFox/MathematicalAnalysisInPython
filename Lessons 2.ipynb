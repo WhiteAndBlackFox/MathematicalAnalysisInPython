{
 "cells": [
  {
   "cell_type": "markdown",
   "metadata": {},
   "source": [
    "# Тема 1 \"Введение в математических анализ\""
   ]
  },
  {
   "cell_type": "markdown",
   "metadata": {},
   "source": [
    "### 1. Как относятся друг к другу множество и последовательность? (в ответе использовать слова типа: часть, целое, общее, частное, родитель, дочерний субъект и т.д.)"
   ]
  },
  {
   "cell_type": "markdown",
   "metadata": {},
   "source": [
    "Последовательность по сути своей является результат последовательного частичного выбора элементов множества, элементы которого пронумерованы натуральными числами."
   ]
  },
  {
   "cell_type": "markdown",
   "metadata": {},
   "source": [
    "### 2. Прочитать высказывания математической логики, построить их отрицания и установить истинность."
   ]
  },
  {
   "cell_type": "markdown",
   "metadata": {},
   "source": [
    "#### 2.1 $\\forall y \\in [0;1] : sgn(y) = 1$\n",
    "\n",
    "*Высказывание:*\n",
    "\n",
    "Для любого $ y $ принадлежащего сегменту $ [0;1] $ выполняется равенство $ sgn(y) = 1 $\n",
    "\n",
    "*Истинность:*\n",
    "\n",
    "Данное утверждение ложно, т.к. сигнум нуля равен нулю.\n",
    "\n",
    "*Отрицание:*\n",
    "\n",
    "$\\exists y \\in [0;1] : sgn(y) \\neq 1$.\n",
    "\n",
    "#### 2.2 $\\forall n \\in \\mathbb N > 2 : \\exists x, y, z \\in \\mathbb N : x^n = y^n + z^n$\n",
    "\n",
    "*Высказывание:*\n",
    "\n",
    "Для любого $ n $ из множества натуральных чисел больше двух существуют такие натуральные числа $ x, y, z $ в которых $ n $ выражается через степень полинома - икс в степени $ x^n = y^n + z^n $.\n",
    "\n",
    "*Истинность:*\n",
    "\n",
    "Утверждение не верно согласно *Великой теореме Ферма*, которая утверждает, что такое уравнение при `n` больше двух не имеет целых корней.\n",
    "\n",
    "*Отрицание:*\n",
    "\n",
    "$\\exists n \\in \\mathbb N > 2 : \\forall x, y, z \\in \\mathbb N : x^n \\neq y^n + z^n$\n",
    "\n",
    "\n",
    "#### 2.3 $\\forall x \\in \\mathbb R \\exists X \\in \\mathbb R : X > x$\n",
    "\n",
    "*Высказывание:*\n",
    "\n",
    "Для любого вещественного $ x $ существует множество вещественных чисел $ X $ больше чем $ x $.\n",
    "\n",
    "*Истинность:*\n",
    "\n",
    "Утверждение истинно так множество вещественных чисел бесконечно.\n",
    "\n",
    "*Отрицание:*\n",
    "\n",
    "$\\exists x \\in \\mathbb R \\ \\forall \\ X \\in \\mathbb R : X < x$\n",
    "\n",
    "#### 2.4 $\\forall x \\in \\mathbb C \\nexists y \\in \\mathbb C : x > y || x < y$\n",
    "\n",
    "*Высказывание:*\n",
    "\n",
    "Для любого комплексного числа $ x $ не существует комплексного числа $ y $, которое меньше или больше $ x $.\n",
    "\n",
    "*Истинность:*\n",
    "\n",
    "Утверждение истинно т.к. для $ x $ = $ y $ условие ($x > y || x < y$) не выполниться.\n",
    "\n",
    "*Отрицание:*\n",
    "\n",
    "$\\exists x \\in \\mathbb C \\ \\exists \\ y \\in \\mathbb C : x \\leqslant y || x \\geqslant y$\n",
    "\n",
    "#### 2.5 $\\forall y \\in [0; \\dfrac{\\pi}{2}] \\ \\exists \\ \\epsilon > 0 : sin y < sin(y + \\epsilon) $\n",
    "\n",
    "*Высказывание:*\n",
    "\n",
    "Для любого $ y $ из интервала от нуля включительно до  $\\dfrac{\\pi}{2}$ включительно существует эпсилон больший нуля, такой, что синус $ y $ меньше чем синус  от $ y $ + $\\epsilon$.\n",
    "\n",
    "*Истинность:*\n",
    "\n",
    "Утверждение ложно т.к. при $y = \\dfrac{\\pi}{2}$ и $\\epsilon > 0$ синусоида $sin(y + \\epsilon)$ пойдет на снижение и условие не выполнится. \n",
    "\n",
    "*Отрицание:*\n",
    "\n",
    "$\\exists y \\in [0; \\dfrac{\\pi}{2}] \\ \\forall \\ \\epsilon > 0 : sin y \\geqslant sin(y + \\epsilon) $\n",
    "\n",
    "#### 2.6 $\\forall y \\in [0; pi) \\ \\exists \\ \\epsilon > 0 : cos y < cos(y + \\epsilon) $\n",
    "\n",
    "*Высказывание:*\n",
    "\n",
    "Для любого $ y $ из интервала от нуля включительно до $\\pi$ не включительно существует эпсилон больший нуля, такой, что косинус $ y $ меньше, чем косинус от $ y $ + $\\epsilon$.\n",
    "\n",
    "*Истинность:*\n",
    "\n",
    "Утверждение истинно так как $\\pi$ не включено в интервал и условие выполнится для любого `y`.\n",
    "\n",
    "*Отрицание:*\n",
    "\n",
    "$\\exists y \\in [0; \\pi) \\ \\forall \\ \\epsilon > 0 : cos y \\leqslant cos(y + \\epsilon) $\n",
    "\n",
    "#### 2.7 $\\in x : x \\notin \\{ \\mathbb N, \\mathbb Z, \\mathbb Q, \\mathbb R, \\mathbb C \\} $\n",
    "\n",
    "*Высказывание:*\n",
    "\n",
    "Существует такое $ x $ которое не включено ни в одно из множеств натуральных, целых, рациональных, вещественных и комплексных чисел.\n",
    "\n",
    "*Истинность:*\n",
    "\n",
    "Данное утверждение ложно так как согласно парадоксу Рассела нельзя составить множество всех множеств, а значит само условие высказывания не верно.\n",
    "\n",
    "*Отрицание:*\n",
    "\n",
    "$\\forall x : x \\in \\{ \\mathbb N, \\mathbb Z, \\mathbb Q, \\mathbb R, \\mathbb C \\} $"
   ]
  },
  {
   "cell_type": "markdown",
   "metadata": {},
   "source": [
    "# Тема 2 \"Множество\"\n"
   ]
  },
  {
   "cell_type": "markdown",
   "metadata": {},
   "source": [
    "#### 1. Даны три множества a,b и с. Необходимо выполнить все изученные виды бинарных операций над всеми комбинациями множеств.\n",
    "\n"
   ]
  },
  {
   "cell_type": "markdown",
   "metadata": {},
   "source": [
    "Определим множества: \n",
    "\n",
    "* $A = \\{ 1; 4; 6\\}$\n",
    "* $B = \\{ 2; 4; 5\\}$\n",
    "* $C = \\{ 2; 3; 4\\}$"
   ]
  },
  {
   "cell_type": "markdown",
   "metadata": {},
   "source": [
    "1. Пересечение: \n",
    "\n",
    "$ A \\cap B \\cap C = \\{4\\} $\n",
    "\n",
    "2. Объединение: \n",
    "\n",
    "$ A \\cup B \\cup C = \\{ 1; 2; 3; 4; 5 \\} $\n",
    "\n",
    "3. Разность: \n",
    "\n",
    "$ A \\setminus B \\setminus C = \\{ 1; 6 \\} $\n",
    "\n",
    "4. Симметричной разность: \n",
    "\n",
    "$ A \\: \\Delta \\: B \\: \\Delta \\: C = \\{ 1; 3; 5; 6 \\} $\n",
    "\n",
    "5. Декартово произведение: \n",
    "\n",
    "$ A \\times B \\times C = \\{ (1; 2; 2), (4; 4; 3) ... \\} $"
   ]
  },
  {
   "cell_type": "markdown",
   "metadata": {},
   "source": [
    "#### 2. *Выполнить задание 1 на языке Python"
   ]
  },
  {
   "cell_type": "code",
   "execution_count": 2,
   "metadata": {},
   "outputs": [],
   "source": [
    "A = {1, 4, 6}\n",
    "B = {2, 4, 5}\n",
    "C = {2, 3, 4}"
   ]
  },
  {
   "cell_type": "code",
   "execution_count": 6,
   "metadata": {},
   "outputs": [
    {
     "data": {
      "text/plain": [
       "{4}"
      ]
     },
     "execution_count": 6,
     "metadata": {},
     "output_type": "execute_result"
    }
   ],
   "source": [
    "# Пересечение\n",
    "A & B & C"
   ]
  },
  {
   "cell_type": "code",
   "execution_count": 7,
   "metadata": {},
   "outputs": [
    {
     "data": {
      "text/plain": [
       "{1, 2, 3, 4, 5, 6}"
      ]
     },
     "execution_count": 7,
     "metadata": {},
     "output_type": "execute_result"
    }
   ],
   "source": [
    "# Объединение\n",
    "A | B | C"
   ]
  },
  {
   "cell_type": "code",
   "execution_count": 8,
   "metadata": {},
   "outputs": [
    {
     "data": {
      "text/plain": [
       "{1, 6}"
      ]
     },
     "execution_count": 8,
     "metadata": {},
     "output_type": "execute_result"
    }
   ],
   "source": [
    "# Разность\n",
    "A - B - C"
   ]
  },
  {
   "cell_type": "code",
   "execution_count": 9,
   "metadata": {},
   "outputs": [
    {
     "data": {
      "text/plain": [
       "{1, 3, 5, 6}"
      ]
     },
     "execution_count": 9,
     "metadata": {},
     "output_type": "execute_result"
    }
   ],
   "source": [
    "# Симметричной разность\n",
    "(A - B - C) | (B - C - A) | (C - A - B)"
   ]
  },
  {
   "cell_type": "code",
   "execution_count": 11,
   "metadata": {},
   "outputs": [
    {
     "name": "stdout",
     "output_type": "stream",
     "text": [
      "(1, 2, 2) (1, 2, 3) (1, 2, 4) (1, 4, 2) (1, 4, 3) (1, 4, 4) (1, 5, 2) (1, 5, 3) (1, 5, 4) (4, 2, 2) (4, 2, 3) (4, 2, 4) (4, 4, 2) (4, 4, 3) (4, 4, 4) (4, 5, 2) (4, 5, 3) (4, 5, 4) (6, 2, 2) (6, 2, 3) (6, 2, 4) (6, 4, 2) (6, 4, 3) (6, 4, 4) (6, 5, 2) (6, 5, 3) (6, 5, 4)\n"
     ]
    }
   ],
   "source": [
    "# Декартово произведение\n",
    "import itertools\n",
    "print(*itertools.product(A, B, C))"
   ]
  },
  {
   "cell_type": "markdown",
   "metadata": {},
   "source": [
    "# Тема 3 \"Последовательность\"\n"
   ]
  },
  {
   "cell_type": "markdown",
   "metadata": {},
   "source": [
    "### 1. Даны 4 последовательности.\n",
    "\n",
    "1.1 $ \\{a_n\\}_{n=1}^{\\infty} = 2^n - n $\n",
    "\n",
    "1.2 $ \\{b_n\\}_{n=2}^{\\infty} = \\dfrac{1}{1 - n} $\n",
    "\n",
    "1.3 $ \\{c_n\\}_{n=1}^{\\infty} = -1^n + \\sqrt{2n}$\n",
    "\n",
    "1.4 $ \\{d_n\\}_{n=1}^{\\infty} = (-1)^{2n} + \\dfrac{1}{n^2}$\n",
    "\n",
    "Необходимо:\n",
    "\n",
    "1. исследовать их на монотонность; \n",
    "2. исследовать на ограниченность;\n",
    "3. найти пятый по счету член."
   ]
  },
  {
   "cell_type": "markdown",
   "metadata": {},
   "source": [
    "#### 1.1 Решение\n",
    "\n",
    "$$ \\{a_n\\}_{n=1}^{\\infty} = 2^n - n $$\n",
    "\n",
    "Найдем предел:\n",
    "\n",
    "$$ \\lim \\limits_{n \\to \\infty}  (2^n - n) = 2^{\\infty} - \\infty = \\infty $$\n",
    "\n",
    "Проверим подстановкой:\n"
   ]
  },
  {
   "cell_type": "code",
   "execution_count": 14,
   "metadata": {},
   "outputs": [
    {
     "data": {
      "text/plain": [
       "[1, 2, 5, 12, 27, 58, 121, 248, 503]"
      ]
     },
     "execution_count": 14,
     "metadata": {},
     "output_type": "execute_result"
    }
   ],
   "source": [
    "seq1 = []\n",
    "for n in range(1, 10):\n",
    "    seq1.append(2**n - n)\n",
    "seq1"
   ]
  },
  {
   "cell_type": "markdown",
   "metadata": {},
   "source": [
    "* Последовательность монотонно возрастающая. \n",
    "* Снизу ограничена единицей, сверху не ограничена, т.е. предел положительно бесконечный.\n",
    "* Пятый по счету член = 27."
   ]
  },
  {
   "cell_type": "markdown",
   "metadata": {},
   "source": [
    "#### 1.2 Решение\n",
    "\n",
    "$$ \\{b_n\\}_{n=2}^{\\infty} = \\dfrac{1}{1 - n} $$\n",
    "\n",
    "Найдем предел:\n",
    "\n",
    "$$\\lim \\limits_{n \\to \\infty}  (\\dfrac{1}{1 - n}) = \\dfrac{1}{1 - \\infty} = 0 $$\n",
    "\n",
    "Проверим подстановкой:"
   ]
  },
  {
   "cell_type": "code",
   "execution_count": 17,
   "metadata": {},
   "outputs": [
    {
     "data": {
      "text/plain": [
       "[-1.0, -0.5, -0.3333333333333333, -0.25, -0.2, -0.16666666666666666]"
      ]
     },
     "execution_count": 17,
     "metadata": {},
     "output_type": "execute_result"
    }
   ],
   "source": [
    "seq2 = []\n",
    "for n in range(2, 8):\n",
    "    seq2.append(1/(1 - n))\n",
    "seq2"
   ]
  },
  {
   "cell_type": "markdown",
   "metadata": {},
   "source": [
    "* Последовательность монотонно возрастающая. \n",
    "* Снизу ограничена минус единицей, а сверху нулём.\n",
    "* Пятый по счету член = -0.2."
   ]
  },
  {
   "cell_type": "markdown",
   "metadata": {},
   "source": [
    "#### 1.3 Решение\n",
    "\n",
    "$$ \\{c_n\\}_{n=1}^{\\infty} = -1^n + \\sqrt{2n}$$\n",
    "\n",
    "Найдем предел:\n",
    "\n",
    "$$\\lim \\limits_{n \\to \\infty}  (-1^n + \\sqrt{2n}) = -1^{\\infty} + \\sqrt{2 \\cdot \\infty} = -1 + \\infty = \\infty$$\n",
    "\n",
    "Проверим подстановкой:"
   ]
  },
  {
   "cell_type": "code",
   "execution_count": 19,
   "metadata": {},
   "outputs": [
    {
     "data": {
      "text/plain": [
       "[0.41421356237309515,\n",
       " 1.0,\n",
       " 1.4494897427831779,\n",
       " 1.8284271247461903,\n",
       " 2.1622776601683795]"
      ]
     },
     "execution_count": 19,
     "metadata": {},
     "output_type": "execute_result"
    }
   ],
   "source": [
    "seq3 = []\n",
    "for n in range(1, 10**5):\n",
    "    seq3.append(-1**n + (2 * n)**0.5)\n",
    "seq3[0:5]"
   ]
  },
  {
   "cell_type": "markdown",
   "metadata": {},
   "source": [
    "* Последовательность монотонно возрастающая. \n",
    "* Снизу ограничена значением примерно 0.414, сверху не ограничена.\n",
    "* Пятый по счету член $\\approx 2.16$"
   ]
  },
  {
   "cell_type": "markdown",
   "metadata": {},
   "source": [
    "#### 1.4 Решение\n",
    "\n",
    "$$ \\{d_n\\}_{n=1}^{\\infty} = (-1)^{2n} + \\dfrac{1}{n^2}$$\n",
    "\n",
    "Найдем предел:\n",
    "\n",
    "$$\\lim \\limits_{n \\to \\infty}  ((-1)^{2n} + \\dfrac{1}{n^2}) = (-1)^{2 \\cdot \\infty} + \\dfrac{1}{\\infty^2} = 1 + 0 = 1$$\n",
    "\n",
    "Проверим подстановкой:"
   ]
  },
  {
   "cell_type": "code",
   "execution_count": 20,
   "metadata": {},
   "outputs": [
    {
     "data": {
      "text/plain": [
       "[2.0, 1.25, 1.1111111111111112, 1.0625, 1.04]"
      ]
     },
     "execution_count": 20,
     "metadata": {},
     "output_type": "execute_result"
    }
   ],
   "source": [
    "seq4 = []\n",
    "for n in range(1, 10**3):\n",
    "    seq4.append((-1)**(2 * n) + 1/(n**2))\n",
    "seq4[0:5]"
   ]
  },
  {
   "cell_type": "markdown",
   "metadata": {},
   "source": [
    "* Последовательность монотонно убывающая. \n",
    "* Снизу ограничена единицей, а сверху двойкой.\n",
    "* Пятый по счету член = 1.04."
   ]
  },
  {
   "cell_type": "markdown",
   "metadata": {},
   "source": [
    "### 2. Найти 12-й член заданной неявно последовательности\n",
    "\n",
    "$$ a_1 = 128, \\ \\ a_{n + 1} - a_n = 6 $$\n"
   ]
  },
  {
   "cell_type": "markdown",
   "metadata": {},
   "source": [
    "Подставим значение и упростим последовательность: \n",
    "\n",
    "$$ \\{a_n\\}_{n=1}^{\\infty} = 128 + 6 \\cdot n $$"
   ]
  },
  {
   "cell_type": "code",
   "execution_count": 22,
   "metadata": {},
   "outputs": [
    {
     "name": "stdout",
     "output_type": "stream",
     "text": [
      "[128, 134, 140, 146, 152, 158, 164, 170, 176, 182, 188, 194, 200, 206, 212]\n",
      "12-й член последовательности равен 194\n"
     ]
    }
   ],
   "source": [
    "# Найдем 12 последовательность\n",
    "\n",
    "seq5 = []\n",
    "for n in range(1, 10**2):\n",
    "    seq5.append(122 + 6 * n)\n",
    "print(seq5[0:15])\n",
    "print(f'12-й член последовательности равен {seq5[11]}')"
   ]
  },
  {
   "cell_type": "markdown",
   "metadata": {},
   "source": [
    "### 3. \\* На языке Python предложить алгоритм вычисляющий численно предел $\\lim \\limits_{n \\to +\\infty} \\dfrac{n}{\\sqrt[n]{n!}} $ с точностью $\\epsilon = 10^{-7}$\n"
   ]
  },
  {
   "cell_type": "code",
   "execution_count": null,
   "metadata": {},
   "outputs": [],
   "source": [
    "%%time\n",
    "seq6 = []\n",
    "lim = 171\n",
    "accuracy = 10**-7\n",
    "\n",
    "for n in range(1, lim):\n",
    "    seq6.append(n / math.factorial(n) ** (1 / n))  \n",
    "    if n > 3:\n",
    "        if seq6[n - 1] - seq6[n - 2] < accuracy:\n",
    "            print(f'Значение предела с необходимой точностью получено на шаге n = {n}')\n",
    "            break\n",
    "seq6[lim-4:]"
   ]
  },
  {
   "cell_type": "markdown",
   "metadata": {},
   "source": [
    "### 4. *Предложить оптимизацию алгоритма, полученного в задании 3, ускоряющую его сходимость."
   ]
  },
  {
   "cell_type": "markdown",
   "metadata": {},
   "source": [
    "Данный в задании предел не что иное как число e — основание натурального логарифма. Число e можно выразить через сумму ряда \n",
    "$$ \\{a_n\\}_{n=0}^{\\infty} \\dfrac{1}{n!}$$"
   ]
  },
  {
   "cell_type": "code",
   "execution_count": null,
   "metadata": {},
   "outputs": [],
   "source": [
    "%%time\n",
    "seq = []\n",
    "sumseq, sumseq_last = 0, 0\n",
    "lim = 100\n",
    "accuracy = 10**-7\n",
    "\n",
    "for n in range(0, lim):\n",
    "    sumseq_last = sum(seq)\n",
    "    seq.append(1 / math.factorial(n))  \n",
    "    sumseq = sum(seq)\n",
    "    if n > 3:\n",
    "        \n",
    "        if (sumseq - sumseq_last) < accuracy:\n",
    "            print(f'Ряд сошелся с необходимой точностью на шаге n = {n}')\n",
    "            break\n",
    "    \n",
    "sum(seq)"
   ]
  },
  {
   "cell_type": "code",
   "execution_count": null,
   "metadata": {},
   "outputs": [],
   "source": []
  }
 ],
 "metadata": {
  "kernelspec": {
   "display_name": "Python 3",
   "language": "python",
   "name": "python3"
  },
  "language_info": {
   "codemirror_mode": {
    "name": "ipython",
    "version": 3
   },
   "file_extension": ".py",
   "mimetype": "text/x-python",
   "name": "python",
   "nbconvert_exporter": "python",
   "pygments_lexer": "ipython3",
   "version": "3.7.4"
  }
 },
 "nbformat": 4,
 "nbformat_minor": 2
}
