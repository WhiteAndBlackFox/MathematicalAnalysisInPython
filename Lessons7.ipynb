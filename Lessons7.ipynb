{
 "cells": [
  {
   "cell_type": "markdown",
   "metadata": {},
   "source": [
    "# Производные функций одного переменного."
   ]
  },
  {
   "cell_type": "markdown",
   "metadata": {},
   "source": [
    "### Найти производную функции"
   ]
  },
  {
   "cell_type": "markdown",
   "metadata": {},
   "source": [
    "1. $ y = \\frac{1}{x} + \\frac{2}{x^{2}} - \\frac{5}{x^{3}} + \\sqrt{x} - \\sqrt[3]{x} + \\frac{3}{\\sqrt{x}} $\n",
    "\n",
    "$$ y' = \\frac{15 - x(4 + x)}{x^{4}} + \\sqrt{x}(\\frac{1}{2x} - \\frac{3}{2} - \\frac{3}{2x^{2}}) $$\n",
    "\n",
    "2. $ y = x\\sqrt{1+x^{2}} $\n",
    "\n",
    "$$ y' = \\frac{2x^{2} + 1}{\\sqrt{x^{2}+1}} $$\n",
    "\n",
    "3. $ y = \\frac{2x}{1-x^{2}} $\n",
    "\n",
    "$$ y' = \\frac{2x^{2} + 2}{(1-x^{2})^{2}} $$\n",
    "\n",
    "4. $ y = \\sqrt{x + \\sqrt{x + \\sqrt{x}}} $\n",
    "\n",
    "$$ y' = \\frac{\\frac{ \\frac{1}{2\\sqrt{x}} + 1}{2\\sqrt{x+\\sqrt{x}}} + 1}{2\\sqrt{x + \\sqrt{x + \\sqrt{x}}}} $$"
   ]
  },
  {
   "cell_type": "markdown",
   "metadata": {},
   "source": [
    "### Найти производную функции с помощью логарифмирования"
   ]
  },
  {
   "cell_type": "markdown",
   "metadata": {},
   "source": [
    "5. $ y = (x^{2} + 2)^{5} * (3x - x^{3})^{3} $\n",
    "\n",
    "$$ y' = x^{2}*(x^{2} + 2)^{4} *(3 - x^{2})^{2} * (21x^{2} - 19x^{4} + 18) $$\n",
    "\n",
    "6. $ y = \\sqrt[x]{x} $\n",
    "\n",
    "$$ y' = \\sqrt[x]{x}(\\ln(\\sqrt{x}) + \\frac{x}{2\\sqrt{x^{2}}}) $$\n",
    "\n",
    "7. $ y = \\frac{(2 - x^{2})^{3} (x - 1)^{2}}{(2x^{3} - 3x)e^{x}} $\n",
    "\n",
    "$$ y' = \\frac{(2 - x^{2})^{3} * ( (-(x-1)^{2}) * (6x^{2} - 3) + x(2*x^{2} - 3) * (x(2-\\frac{6(x-1)^{2}}{2-x^{2}}) - (x - 1)^{2} -2))}{xe^{x}(2x^{2}-3)^{2}} $$"
   ]
  },
  {
   "cell_type": "markdown",
   "metadata": {},
   "source": [
    "### Найти производную 𝑦'𝑥:"
   ]
  },
  {
   "cell_type": "markdown",
   "metadata": {},
   "source": [
    "8. $$ x = \\frac{t^{2}}{t-1}, y = \\frac{t}{t^{2} - 1} $$\n",
    "\n",
    "\n",
    "$$ x'_t = \\frac{x(x-2)}{(x-1)^{2}}; y'_t = -\\frac{x^{2} + 1}{(x^{2} - 1)^{2}} $$\n",
    "\n",
    "$$ y'_x = \\frac{dy}{dx} = \\frac{y'_t}{x'_t} = \\frac{-\\frac{x^{2} + 1}{(x^{2} - 1)^{2}}}{\\frac{x(x-2)}{(x-1)^{2}}} = \\frac{(x-1)^{2}(-x^{2} - 1)}{x(x-2)(x^{2} - 1)^{2}} $$\n",
    "\n",
    "$$ y'_x = \\frac{(x-1)^{2}(-x^{2} - 1)}{x(x-2)(x^{2} - 1)^{2}} $$\n",
    "\n",
    "\n",
    "\n",
    "9. $$ arctg(\\frac{y}{x}) = \\ln{\\sqrt{x^{2} + y^{2}}} $$\n",
    "$$ y'_x = \\frac{x+y}{x-y} $$"
   ]
  },
  {
   "cell_type": "markdown",
   "metadata": {},
   "source": [
    "### Найти производную функции:"
   ]
  },
  {
   "cell_type": "markdown",
   "metadata": {},
   "source": [
    "10. $$ y = \\ln{x+\\sqrt{x^{2} + 1}} $$\n",
    "\n",
    "$$ y' = \\sqrt{1}{x} + \\sqrt{x}{\\sqrt{x^{2} + 1}} $$\n",
    "\n",
    "11. $$ y = x\\ln{x + \\sqrt{x^{2} + 1}} - \\sqrt{x^{2} + 1} $$\n",
    "\n",
    "$$ y' = \\ln{x + \\sqrt{x^{2} + 1}} + \\frac{x(\\frac{x}{\\sqrt{x^{2} + 1}})}{x + \\sqrt{x^{2} + 1}} - \\frac{x}{\\sqrt{x^{2} + 1}}  $$\n",
    "\n",
    "12. $$ y = arcsin(\\sin{x}) $$\n",
    "\n",
    "$$ y' = \\frac{\\cos{x}}{\\sqrt{1 - (\\sin{x})^{2}}} $$\n",
    "\n",
    "\n",
    "13. Найти длину 𝑥 и ширину 𝑦 прямоугольника при заданном периметре 𝑃 = 144 см , при которых данный прямоугольник имеет наибольшую площадь S.\n",
    "\n",
    "$ P = 2(x + y), S = x * y $\n",
    "\n",
    "$ y = 72 - x $\n",
    "\n",
    "$ S = (72 - x) * x = 72x - x^{2} $\n",
    "\n",
    "$ S' = 72-2x = 0 $\n",
    "\n",
    "$ x = 72/2 = 36 $\n",
    "\n",
    "$ S = 36 * 36 = 1296 $"
   ]
  },
  {
   "cell_type": "markdown",
   "metadata": {},
   "source": []
  }
 ],
 "metadata": {
  "kernelspec": {
   "display_name": "Python 3",
   "language": "python",
   "name": "python3"
  },
  "language_info": {
   "codemirror_mode": {
    "name": "ipython",
    "version": 3
   },
   "file_extension": ".py",
   "mimetype": "text/x-python",
   "name": "python",
   "nbconvert_exporter": "python",
   "pygments_lexer": "ipython3",
   "version": "3.7.4"
  }
 },
 "nbformat": 4,
 "nbformat_minor": 2
}
